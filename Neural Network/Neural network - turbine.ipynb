{
 "cells": [
  {
   "cell_type": "code",
   "execution_count": 7,
   "metadata": {
    "executionInfo": {
     "elapsed": 386,
     "status": "ok",
     "timestamp": 1631540663737,
     "user": {
      "displayName": "Rooba Dharshini",
      "photoUrl": "https://lh3.googleusercontent.com/a-/AOh14GgFMTz2I-kQBRnzggoR7sNyqkk8l6OvkfZ1oqO9RA=s64",
      "userId": "15190253811630465496"
     },
     "user_tz": -330
    },
    "id": "d9m6AaZ1UypV"
   },
   "outputs": [],
   "source": [
    "import tensorflow as tf\n",
    "from tensorflow import keras\n",
    "import matplotlib.pyplot as plt\n",
    "import numpy as np\n",
    "import matplotlib.pyplot as plt\n",
    "import seaborn as sns\n",
    "import pandas as pd"
   ]
  },
  {
   "cell_type": "code",
   "execution_count": 2,
   "metadata": {
    "executionInfo": {
     "elapsed": 20,
     "status": "ok",
     "timestamp": 1631539459674,
     "user": {
      "displayName": "Rooba Dharshini",
      "photoUrl": "https://lh3.googleusercontent.com/a-/AOh14GgFMTz2I-kQBRnzggoR7sNyqkk8l6OvkfZ1oqO9RA=s64",
      "userId": "15190253811630465496"
     },
     "user_tz": -330
    },
    "id": "F5pDhjrfVEBw"
   },
   "outputs": [],
   "source": [
    "from google.colab import files"
   ]
  },
  {
   "cell_type": "code",
   "execution_count": 3,
   "metadata": {
    "colab": {
     "base_uri": "https://localhost:8080/"
    },
    "executionInfo": {
     "elapsed": 30016,
     "status": "ok",
     "timestamp": 1631539498502,
     "user": {
      "displayName": "Rooba Dharshini",
      "photoUrl": "https://lh3.googleusercontent.com/a-/AOh14GgFMTz2I-kQBRnzggoR7sNyqkk8l6OvkfZ1oqO9RA=s64",
      "userId": "15190253811630465496"
     },
     "user_tz": -330
    },
    "id": "NkCsSiiYVF6g",
    "outputId": "b531855d-2cd4-4a2b-c908-1e657b5747a6"
   },
   "outputs": [
    {
     "name": "stdout",
     "output_type": "stream",
     "text": [
      "Mounted at /content/drive\n"
     ]
    }
   ],
   "source": [
    "from google.colab import drive\n",
    "drive.mount('/content/drive')"
   ]
  },
  {
   "cell_type": "code",
   "execution_count": 5,
   "metadata": {
    "executionInfo": {
     "elapsed": 503,
     "status": "ok",
     "timestamp": 1631540536499,
     "user": {
      "displayName": "Rooba Dharshini",
      "photoUrl": "https://lh3.googleusercontent.com/a-/AOh14GgFMTz2I-kQBRnzggoR7sNyqkk8l6OvkfZ1oqO9RA=s64",
      "userId": "15190253811630465496"
     },
     "user_tz": -330
    },
    "id": "fi325BmcVJYE"
   },
   "outputs": [],
   "source": [
    "path='/content/drive/MyDrive/gas_turbines.csv'"
   ]
  },
  {
   "cell_type": "code",
   "execution_count": 10,
   "metadata": {
    "colab": {
     "base_uri": "https://localhost:8080/",
     "height": 419
    },
    "executionInfo": {
     "elapsed": 409,
     "status": "ok",
     "timestamp": 1631540708341,
     "user": {
      "displayName": "Rooba Dharshini",
      "photoUrl": "https://lh3.googleusercontent.com/a-/AOh14GgFMTz2I-kQBRnzggoR7sNyqkk8l6OvkfZ1oqO9RA=s64",
      "userId": "15190253811630465496"
     },
     "user_tz": -330
    },
    "id": "rJg6PQdAZN-S",
    "outputId": "1cdbbd02-acaa-453b-9afc-0079a7f680e8"
   },
   "outputs": [
    {
     "data": {
      "text/html": [
       "<div>\n",
       "<style scoped>\n",
       "    .dataframe tbody tr th:only-of-type {\n",
       "        vertical-align: middle;\n",
       "    }\n",
       "\n",
       "    .dataframe tbody tr th {\n",
       "        vertical-align: top;\n",
       "    }\n",
       "\n",
       "    .dataframe thead th {\n",
       "        text-align: right;\n",
       "    }\n",
       "</style>\n",
       "<table border=\"1\" class=\"dataframe\">\n",
       "  <thead>\n",
       "    <tr style=\"text-align: right;\">\n",
       "      <th></th>\n",
       "      <th>AT</th>\n",
       "      <th>AP</th>\n",
       "      <th>AH</th>\n",
       "      <th>AFDP</th>\n",
       "      <th>GTEP</th>\n",
       "      <th>TIT</th>\n",
       "      <th>TAT</th>\n",
       "      <th>TEY</th>\n",
       "      <th>CDP</th>\n",
       "      <th>CO</th>\n",
       "      <th>NOX</th>\n",
       "    </tr>\n",
       "  </thead>\n",
       "  <tbody>\n",
       "    <tr>\n",
       "      <th>0</th>\n",
       "      <td>6.8594</td>\n",
       "      <td>1007.9</td>\n",
       "      <td>96.799</td>\n",
       "      <td>3.5000</td>\n",
       "      <td>19.663</td>\n",
       "      <td>1059.2</td>\n",
       "      <td>550.00</td>\n",
       "      <td>114.70</td>\n",
       "      <td>10.605</td>\n",
       "      <td>3.1547</td>\n",
       "      <td>82.722</td>\n",
       "    </tr>\n",
       "    <tr>\n",
       "      <th>1</th>\n",
       "      <td>6.7850</td>\n",
       "      <td>1008.4</td>\n",
       "      <td>97.118</td>\n",
       "      <td>3.4998</td>\n",
       "      <td>19.728</td>\n",
       "      <td>1059.3</td>\n",
       "      <td>550.00</td>\n",
       "      <td>114.72</td>\n",
       "      <td>10.598</td>\n",
       "      <td>3.2363</td>\n",
       "      <td>82.776</td>\n",
       "    </tr>\n",
       "    <tr>\n",
       "      <th>2</th>\n",
       "      <td>6.8977</td>\n",
       "      <td>1008.8</td>\n",
       "      <td>95.939</td>\n",
       "      <td>3.4824</td>\n",
       "      <td>19.779</td>\n",
       "      <td>1059.4</td>\n",
       "      <td>549.87</td>\n",
       "      <td>114.71</td>\n",
       "      <td>10.601</td>\n",
       "      <td>3.2012</td>\n",
       "      <td>82.468</td>\n",
       "    </tr>\n",
       "    <tr>\n",
       "      <th>3</th>\n",
       "      <td>7.0569</td>\n",
       "      <td>1009.2</td>\n",
       "      <td>95.249</td>\n",
       "      <td>3.4805</td>\n",
       "      <td>19.792</td>\n",
       "      <td>1059.6</td>\n",
       "      <td>549.99</td>\n",
       "      <td>114.72</td>\n",
       "      <td>10.606</td>\n",
       "      <td>3.1923</td>\n",
       "      <td>82.670</td>\n",
       "    </tr>\n",
       "    <tr>\n",
       "      <th>4</th>\n",
       "      <td>7.3978</td>\n",
       "      <td>1009.7</td>\n",
       "      <td>95.150</td>\n",
       "      <td>3.4976</td>\n",
       "      <td>19.765</td>\n",
       "      <td>1059.7</td>\n",
       "      <td>549.98</td>\n",
       "      <td>114.72</td>\n",
       "      <td>10.612</td>\n",
       "      <td>3.2484</td>\n",
       "      <td>82.311</td>\n",
       "    </tr>\n",
       "    <tr>\n",
       "      <th>...</th>\n",
       "      <td>...</td>\n",
       "      <td>...</td>\n",
       "      <td>...</td>\n",
       "      <td>...</td>\n",
       "      <td>...</td>\n",
       "      <td>...</td>\n",
       "      <td>...</td>\n",
       "      <td>...</td>\n",
       "      <td>...</td>\n",
       "      <td>...</td>\n",
       "      <td>...</td>\n",
       "    </tr>\n",
       "    <tr>\n",
       "      <th>15034</th>\n",
       "      <td>9.0301</td>\n",
       "      <td>1005.6</td>\n",
       "      <td>98.460</td>\n",
       "      <td>3.5421</td>\n",
       "      <td>19.164</td>\n",
       "      <td>1049.7</td>\n",
       "      <td>546.21</td>\n",
       "      <td>111.61</td>\n",
       "      <td>10.400</td>\n",
       "      <td>4.5186</td>\n",
       "      <td>79.559</td>\n",
       "    </tr>\n",
       "    <tr>\n",
       "      <th>15035</th>\n",
       "      <td>7.8879</td>\n",
       "      <td>1005.9</td>\n",
       "      <td>99.093</td>\n",
       "      <td>3.5059</td>\n",
       "      <td>19.414</td>\n",
       "      <td>1046.3</td>\n",
       "      <td>543.22</td>\n",
       "      <td>111.78</td>\n",
       "      <td>10.433</td>\n",
       "      <td>4.8470</td>\n",
       "      <td>79.917</td>\n",
       "    </tr>\n",
       "    <tr>\n",
       "      <th>15036</th>\n",
       "      <td>7.2647</td>\n",
       "      <td>1006.3</td>\n",
       "      <td>99.496</td>\n",
       "      <td>3.4770</td>\n",
       "      <td>19.530</td>\n",
       "      <td>1037.7</td>\n",
       "      <td>537.32</td>\n",
       "      <td>110.19</td>\n",
       "      <td>10.483</td>\n",
       "      <td>7.9632</td>\n",
       "      <td>90.912</td>\n",
       "    </tr>\n",
       "    <tr>\n",
       "      <th>15037</th>\n",
       "      <td>7.0060</td>\n",
       "      <td>1006.8</td>\n",
       "      <td>99.008</td>\n",
       "      <td>3.4486</td>\n",
       "      <td>19.377</td>\n",
       "      <td>1043.2</td>\n",
       "      <td>541.24</td>\n",
       "      <td>110.74</td>\n",
       "      <td>10.533</td>\n",
       "      <td>6.2494</td>\n",
       "      <td>93.227</td>\n",
       "    </tr>\n",
       "    <tr>\n",
       "      <th>15038</th>\n",
       "      <td>6.9279</td>\n",
       "      <td>1007.2</td>\n",
       "      <td>97.533</td>\n",
       "      <td>3.4275</td>\n",
       "      <td>19.306</td>\n",
       "      <td>1049.9</td>\n",
       "      <td>545.85</td>\n",
       "      <td>111.58</td>\n",
       "      <td>10.583</td>\n",
       "      <td>4.9816</td>\n",
       "      <td>92.498</td>\n",
       "    </tr>\n",
       "  </tbody>\n",
       "</table>\n",
       "<p>15039 rows × 11 columns</p>\n",
       "</div>"
      ],
      "text/plain": [
       "           AT      AP      AH    AFDP  ...     TEY     CDP      CO     NOX\n",
       "0      6.8594  1007.9  96.799  3.5000  ...  114.70  10.605  3.1547  82.722\n",
       "1      6.7850  1008.4  97.118  3.4998  ...  114.72  10.598  3.2363  82.776\n",
       "2      6.8977  1008.8  95.939  3.4824  ...  114.71  10.601  3.2012  82.468\n",
       "3      7.0569  1009.2  95.249  3.4805  ...  114.72  10.606  3.1923  82.670\n",
       "4      7.3978  1009.7  95.150  3.4976  ...  114.72  10.612  3.2484  82.311\n",
       "...       ...     ...     ...     ...  ...     ...     ...     ...     ...\n",
       "15034  9.0301  1005.6  98.460  3.5421  ...  111.61  10.400  4.5186  79.559\n",
       "15035  7.8879  1005.9  99.093  3.5059  ...  111.78  10.433  4.8470  79.917\n",
       "15036  7.2647  1006.3  99.496  3.4770  ...  110.19  10.483  7.9632  90.912\n",
       "15037  7.0060  1006.8  99.008  3.4486  ...  110.74  10.533  6.2494  93.227\n",
       "15038  6.9279  1007.2  97.533  3.4275  ...  111.58  10.583  4.9816  92.498\n",
       "\n",
       "[15039 rows x 11 columns]"
      ]
     },
     "execution_count": 10,
     "metadata": {},
     "output_type": "execute_result"
    }
   ],
   "source": [
    "turbine_data=pd.read_csv(path)\n",
    "turbine_data"
   ]
  },
  {
   "cell_type": "markdown",
   "metadata": {
    "id": "auajsCeHZ7qa"
   },
   "source": [
    "### Initial investigation"
   ]
  },
  {
   "cell_type": "code",
   "execution_count": 11,
   "metadata": {
    "colab": {
     "base_uri": "https://localhost:8080/"
    },
    "executionInfo": {
     "elapsed": 658,
     "status": "ok",
     "timestamp": 1631540748985,
     "user": {
      "displayName": "Rooba Dharshini",
      "photoUrl": "https://lh3.googleusercontent.com/a-/AOh14GgFMTz2I-kQBRnzggoR7sNyqkk8l6OvkfZ1oqO9RA=s64",
      "userId": "15190253811630465496"
     },
     "user_tz": -330
    },
    "id": "xRtxP8blZ_BY",
    "outputId": "aa878804-3748-4a94-f9a7-7bc40b9063f8"
   },
   "outputs": [
    {
     "data": {
      "text/plain": [
       "(15039, 11)"
      ]
     },
     "execution_count": 11,
     "metadata": {},
     "output_type": "execute_result"
    }
   ],
   "source": [
    "turbine_data.shape"
   ]
  },
  {
   "cell_type": "code",
   "execution_count": 12,
   "metadata": {
    "colab": {
     "base_uri": "https://localhost:8080/"
    },
    "executionInfo": {
     "elapsed": 411,
     "status": "ok",
     "timestamp": 1631540757394,
     "user": {
      "displayName": "Rooba Dharshini",
      "photoUrl": "https://lh3.googleusercontent.com/a-/AOh14GgFMTz2I-kQBRnzggoR7sNyqkk8l6OvkfZ1oqO9RA=s64",
      "userId": "15190253811630465496"
     },
     "user_tz": -330
    },
    "id": "Cg1NXPNVaBu3",
    "outputId": "29591003-e8b9-48e3-a338-6220aa97dda9"
   },
   "outputs": [
    {
     "data": {
      "text/plain": [
       "AT      float64\n",
       "AP      float64\n",
       "AH      float64\n",
       "AFDP    float64\n",
       "GTEP    float64\n",
       "TIT     float64\n",
       "TAT     float64\n",
       "TEY     float64\n",
       "CDP     float64\n",
       "CO      float64\n",
       "NOX     float64\n",
       "dtype: object"
      ]
     },
     "execution_count": 12,
     "metadata": {},
     "output_type": "execute_result"
    }
   ],
   "source": [
    "turbine_data.dtypes"
   ]
  },
  {
   "cell_type": "code",
   "execution_count": 13,
   "metadata": {
    "colab": {
     "base_uri": "https://localhost:8080/"
    },
    "executionInfo": {
     "elapsed": 579,
     "status": "ok",
     "timestamp": 1631540770925,
     "user": {
      "displayName": "Rooba Dharshini",
      "photoUrl": "https://lh3.googleusercontent.com/a-/AOh14GgFMTz2I-kQBRnzggoR7sNyqkk8l6OvkfZ1oqO9RA=s64",
      "userId": "15190253811630465496"
     },
     "user_tz": -330
    },
    "id": "6SOZggPYaD8z",
    "outputId": "bc14456a-303a-43d4-c9c1-cc8ca3832fc3",
    "scrolled": true
   },
   "outputs": [
    {
     "data": {
      "text/plain": [
       "AT      0\n",
       "AP      0\n",
       "AH      0\n",
       "AFDP    0\n",
       "GTEP    0\n",
       "TIT     0\n",
       "TAT     0\n",
       "TEY     0\n",
       "CDP     0\n",
       "CO      0\n",
       "NOX     0\n",
       "dtype: int64"
      ]
     },
     "execution_count": 13,
     "metadata": {},
     "output_type": "execute_result"
    }
   ],
   "source": [
    "turbine_data.isnull().sum()"
   ]
  },
  {
   "cell_type": "markdown",
   "metadata": {},
   "source": [
    "The dataset have 11 features and 15039 records\n",
    "\n",
    "The datatype of the features are assigned correctly\n",
    "\n",
    "The dataset have no null values"
   ]
  },
  {
   "cell_type": "markdown",
   "metadata": {
    "id": "WDOz2dT0eEZ5"
   },
   "source": [
    "### Data visulaization"
   ]
  },
  {
   "cell_type": "code",
   "execution_count": 15,
   "metadata": {
    "colab": {
     "base_uri": "https://localhost:8080/",
     "height": 350
    },
    "executionInfo": {
     "elapsed": 715,
     "status": "ok",
     "timestamp": 1631541870684,
     "user": {
      "displayName": "Rooba Dharshini",
      "photoUrl": "https://lh3.googleusercontent.com/a-/AOh14GgFMTz2I-kQBRnzggoR7sNyqkk8l6OvkfZ1oqO9RA=s64",
      "userId": "15190253811630465496"
     },
     "user_tz": -330
    },
    "id": "dAgg0cZAeHqf",
    "outputId": "2f286a62-f16a-4d30-e597-8a3672525137"
   },
   "outputs": [
    {
     "name": "stderr",
     "output_type": "stream",
     "text": [
      "/usr/local/lib/python3.7/dist-packages/seaborn/distributions.py:2557: FutureWarning: `distplot` is a deprecated function and will be removed in a future version. Please adapt your code to use either `displot` (a figure-level function with similar flexibility) or `histplot` (an axes-level function for histograms).\n",
      "  warnings.warn(msg, FutureWarning)\n"
     ]
    },
    {
     "data": {
      "text/plain": [
       "<matplotlib.axes._subplots.AxesSubplot at 0x7f3554679b10>"
      ]
     },
     "execution_count": 15,
     "metadata": {},
     "output_type": "execute_result"
    },
    {
     "data": {
      "image/png": "[encoded data removed]",
      "text/plain": [
       "<Figure size 432x288 with 1 Axes>"
      ]
     },
     "metadata": {
      "needs_background": "light"
     },
     "output_type": "display_data"
    }
   ],
   "source": [
    "sns.distplot(turbine_data['AT'])"
   ]
  },
  {
   "cell_type": "code",
   "execution_count": 16,
   "metadata": {
    "colab": {
     "base_uri": "https://localhost:8080/",
     "height": 350
    },
    "executionInfo": {
     "elapsed": 1058,
     "status": "ok",
     "timestamp": 1631541957021,
     "user": {
      "displayName": "Rooba Dharshini",
      "photoUrl": "https://lh3.googleusercontent.com/a-/AOh14GgFMTz2I-kQBRnzggoR7sNyqkk8l6OvkfZ1oqO9RA=s64",
      "userId": "15190253811630465496"
     },
     "user_tz": -330
    },
    "id": "cNzrEBnPeTrI",
    "outputId": "debe6e17-464c-4eb2-98c2-d6e2410cb562"
   },
   "outputs": [
    {
     "name": "stderr",
     "output_type": "stream",
     "text": [
      "/usr/local/lib/python3.7/dist-packages/seaborn/distributions.py:2557: FutureWarning: `distplot` is a deprecated function and will be removed in a future version. Please adapt your code to use either `displot` (a figure-level function with similar flexibility) or `histplot` (an axes-level function for histograms).\n",
      "  warnings.warn(msg, FutureWarning)\n"
     ]
    },
    {
     "data": {
      "text/plain": [
       "<matplotlib.axes._subplots.AxesSubplot at 0x7f355412d350>"
      ]
     },
     "execution_count": 16,
     "metadata": {},
     "output_type": "execute_result"
    },
    {
     "data": {
      "image/png": "[encoded data removed]",
      "text/plain": [
       "<Figure size 432x288 with 1 Axes>"
      ]
     },
     "metadata": {
      "needs_background": "light"
     },
     "output_type": "display_data"
    }
   ],
   "source": [
    "sns.distplot(turbine_data['AP'])"
   ]
  },
  {
   "cell_type": "code",
   "execution_count": 17,
   "metadata": {
    "colab": {
     "base_uri": "https://localhost:8080/",
     "height": 350
    },
    "executionInfo": {
     "elapsed": 467,
     "status": "ok",
     "timestamp": 1631541957478,
     "user": {
      "displayName": "Rooba Dharshini",
      "photoUrl": "https://lh3.googleusercontent.com/a-/AOh14GgFMTz2I-kQBRnzggoR7sNyqkk8l6OvkfZ1oqO9RA=s64",
      "userId": "15190253811630465496"
     },
     "user_tz": -330
    },
    "id": "bNvoU7yweYnm",
    "outputId": "09cd6ea6-46d2-4059-cb55-d753587fa9f6"
   },
   "outputs": [
    {
     "name": "stderr",
     "output_type": "stream",
     "text": [
      "/usr/local/lib/python3.7/dist-packages/seaborn/distributions.py:2557: FutureWarning: `distplot` is a deprecated function and will be removed in a future version. Please adapt your code to use either `displot` (a figure-level function with similar flexibility) or `histplot` (an axes-level function for histograms).\n",
      "  warnings.warn(msg, FutureWarning)\n"
     ]
    },
    {
     "data": {
      "text/plain": [
       "<matplotlib.axes._subplots.AxesSubplot at 0x7f3554059a10>"
      ]
     },
     "execution_count": 17,
     "metadata": {},
     "output_type": "execute_result"
    },
    {
     "data": {
      "image/png": "[encoded data removed]",
      "text/plain": [
       "<Figure size 432x288 with 1 Axes>"
      ]
     },
     "metadata": {
      "needs_background": "light"
     },
     "output_type": "display_data"
    }
   ],
   "source": [
    "sns.distplot(turbine_data['AH'])"
   ]
  },
  {
   "cell_type": "code",
   "execution_count": 18,
   "metadata": {
    "colab": {
     "base_uri": "https://localhost:8080/",
     "height": 350
    },
    "executionInfo": {
     "elapsed": 942,
     "status": "ok",
     "timestamp": 1631541958406,
     "user": {
      "displayName": "Rooba Dharshini",
      "photoUrl": "https://lh3.googleusercontent.com/a-/AOh14GgFMTz2I-kQBRnzggoR7sNyqkk8l6OvkfZ1oqO9RA=s64",
      "userId": "15190253811630465496"
     },
     "user_tz": -330
    },
    "id": "3-4BpbXqeX7L",
    "outputId": "8c5eb17a-191a-470d-cdd9-1946a5cdb851"
   },
   "outputs": [
    {
     "name": "stderr",
     "output_type": "stream",
     "text": [
      "/usr/local/lib/python3.7/dist-packages/seaborn/distributions.py:2557: FutureWarning: `distplot` is a deprecated function and will be removed in a future version. Please adapt your code to use either `displot` (a figure-level function with similar flexibility) or `histplot` (an axes-level function for histograms).\n",
      "  warnings.warn(msg, FutureWarning)\n"
     ]
    },
    {
     "data": {
      "text/plain": [
       "<matplotlib.axes._subplots.AxesSubplot at 0x7f355409a3d0>"
      ]
     },
     "execution_count": 18,
     "metadata": {},
     "output_type": "execute_result"
    },
    {
     "data": {
      "image/png": "[encoded data removed]",
      "text/plain": [
       "<Figure size 432x288 with 1 Axes>"
      ]
     },
     "metadata": {
      "needs_background": "light"
     },
     "output_type": "display_data"
    }
   ],
   "source": [
    "sns.distplot(turbine_data['AFDP'])"
   ]
  },
  {
   "cell_type": "code",
   "execution_count": 22,
   "metadata": {
    "colab": {
     "base_uri": "https://localhost:8080/",
     "height": 350
    },
    "executionInfo": {
     "elapsed": 1114,
     "status": "ok",
     "timestamp": 1631541978165,
     "user": {
      "displayName": "Rooba Dharshini",
      "photoUrl": "https://lh3.googleusercontent.com/a-/AOh14GgFMTz2I-kQBRnzggoR7sNyqkk8l6OvkfZ1oqO9RA=s64",
      "userId": "15190253811630465496"
     },
     "user_tz": -330
    },
    "id": "4bDt_E0IeXg8",
    "outputId": "918b53a9-d63b-4df2-cc15-459e3de8b2b3"
   },
   "outputs": [
    {
     "name": "stderr",
     "output_type": "stream",
     "text": [
      "/usr/local/lib/python3.7/dist-packages/seaborn/distributions.py:2557: FutureWarning: `distplot` is a deprecated function and will be removed in a future version. Please adapt your code to use either `displot` (a figure-level function with similar flexibility) or `histplot` (an axes-level function for histograms).\n",
      "  warnings.warn(msg, FutureWarning)\n"
     ]
    },
    {
     "data": {
      "text/plain": [
       "<matplotlib.axes._subplots.AxesSubplot at 0x7f3553ba6d50>"
      ]
     },
     "execution_count": 22,
     "metadata": {},
     "output_type": "execute_result"
    },
    {
     "data": {
      "image/png": "[encoded data removed]",
      "text/plain": [
       "<Figure size 432x288 with 1 Axes>"
      ]
     },
     "metadata": {
      "needs_background": "light"
     },
     "output_type": "display_data"
    }
   ],
   "source": [
    "sns.distplot(turbine_data['GTEP'])"
   ]
  },
  {
   "cell_type": "code",
   "execution_count": 20,
   "metadata": {
    "colab": {
     "base_uri": "https://localhost:8080/",
     "height": 351
    },
    "executionInfo": {
     "elapsed": 9,
     "status": "ok",
     "timestamp": 1631541959010,
     "user": {
      "displayName": "Rooba Dharshini",
      "photoUrl": "https://lh3.googleusercontent.com/a-/AOh14GgFMTz2I-kQBRnzggoR7sNyqkk8l6OvkfZ1oqO9RA=s64",
      "userId": "15190253811630465496"
     },
     "user_tz": -330
    },
    "id": "t0Gbz-nHeXIe",
    "outputId": "a0793416-bb4d-44ef-9d1d-3b03244ababa"
   },
   "outputs": [
    {
     "name": "stderr",
     "output_type": "stream",
     "text": [
      "/usr/local/lib/python3.7/dist-packages/seaborn/distributions.py:2557: FutureWarning: `distplot` is a deprecated function and will be removed in a future version. Please adapt your code to use either `displot` (a figure-level function with similar flexibility) or `histplot` (an axes-level function for histograms).\n",
      "  warnings.warn(msg, FutureWarning)\n"
     ]
    },
    {
     "data": {
      "text/plain": [
       "<matplotlib.axes._subplots.AxesSubplot at 0x7f3553dd8c90>"
      ]
     },
     "execution_count": 20,
     "metadata": {},
     "output_type": "execute_result"
    },
    {
     "data": {
      "image/png": "[encoded data removed]",
      "text/plain": [
       "<Figure size 432x288 with 1 Axes>"
      ]
     },
     "metadata": {
      "needs_background": "light"
     },
     "output_type": "display_data"
    }
   ],
   "source": [
    "sns.distplot(turbine_data['TIT'])"
   ]
  },
  {
   "cell_type": "code",
   "execution_count": 21,
   "metadata": {
    "colab": {
     "base_uri": "https://localhost:8080/",
     "height": 350
    },
    "executionInfo": {
     "elapsed": 31,
     "status": "ok",
     "timestamp": 1631541959648,
     "user": {
      "displayName": "Rooba Dharshini",
      "photoUrl": "https://lh3.googleusercontent.com/a-/AOh14GgFMTz2I-kQBRnzggoR7sNyqkk8l6OvkfZ1oqO9RA=s64",
      "userId": "15190253811630465496"
     },
     "user_tz": -330
    },
    "id": "xODNiBDIeVsj",
    "outputId": "2555536f-5370-4587-9ef0-d06de77e60af"
   },
   "outputs": [
    {
     "name": "stderr",
     "output_type": "stream",
     "text": [
      "/usr/local/lib/python3.7/dist-packages/seaborn/distributions.py:2557: FutureWarning: `distplot` is a deprecated function and will be removed in a future version. Please adapt your code to use either `displot` (a figure-level function with similar flexibility) or `histplot` (an axes-level function for histograms).\n",
      "  warnings.warn(msg, FutureWarning)\n"
     ]
    },
    {
     "data": {
      "text/plain": [
       "<matplotlib.axes._subplots.AxesSubplot at 0x7f355409af10>"
      ]
     },
     "execution_count": 21,
     "metadata": {},
     "output_type": "execute_result"
    },
    {
     "data": {
      "image/png": "[encoded data removed]",
      "text/plain": [
       "<Figure size 432x288 with 1 Axes>"
      ]
     },
     "metadata": {
      "needs_background": "light"
     },
     "output_type": "display_data"
    }
   ],
   "source": [
    "sns.distplot(turbine_data['TAT'])"
   ]
  },
  {
   "cell_type": "code",
   "execution_count": 24,
   "metadata": {
    "colab": {
     "base_uri": "https://localhost:8080/",
     "height": 350
    },
    "executionInfo": {
     "elapsed": 1418,
     "status": "ok",
     "timestamp": 1631542029783,
     "user": {
      "displayName": "Rooba Dharshini",
      "photoUrl": "https://lh3.googleusercontent.com/a-/AOh14GgFMTz2I-kQBRnzggoR7sNyqkk8l6OvkfZ1oqO9RA=s64",
      "userId": "15190253811630465496"
     },
     "user_tz": -330
    },
    "id": "Y2PfK7qYepUn",
    "outputId": "e98ecc7d-e6cf-404e-dab9-b97ce1ad201c"
   },
   "outputs": [
    {
     "name": "stderr",
     "output_type": "stream",
     "text": [
      "/usr/local/lib/python3.7/dist-packages/seaborn/distributions.py:2557: FutureWarning: `distplot` is a deprecated function and will be removed in a future version. Please adapt your code to use either `displot` (a figure-level function with similar flexibility) or `histplot` (an axes-level function for histograms).\n",
      "  warnings.warn(msg, FutureWarning)\n"
     ]
    },
    {
     "data": {
      "text/plain": [
       "<matplotlib.axes._subplots.AxesSubplot at 0x7f3553a1fc10>"
      ]
     },
     "execution_count": 24,
     "metadata": {},
     "output_type": "execute_result"
    },
    {
     "data": {
      "image/png": "[encoded data removed]",
      "text/plain": [
       "<Figure size 432x288 with 1 Axes>"
      ]
     },
     "metadata": {
      "needs_background": "light"
     },
     "output_type": "display_data"
    }
   ],
   "source": [
    "sns.distplot(turbine_data['CDP'])"
   ]
  },
  {
   "cell_type": "code",
   "execution_count": 25,
   "metadata": {
    "colab": {
     "base_uri": "https://localhost:8080/",
     "height": 350
    },
    "executionInfo": {
     "elapsed": 1484,
     "status": "ok",
     "timestamp": 1631542082571,
     "user": {
      "displayName": "Rooba Dharshini",
      "photoUrl": "https://lh3.googleusercontent.com/a-/AOh14GgFMTz2I-kQBRnzggoR7sNyqkk8l6OvkfZ1oqO9RA=s64",
      "userId": "15190253811630465496"
     },
     "user_tz": -330
    },
    "id": "c48Rc_vpexyX",
    "outputId": "b565d725-c4de-4bcf-9dfa-56b3482e40a0"
   },
   "outputs": [
    {
     "name": "stderr",
     "output_type": "stream",
     "text": [
      "/usr/local/lib/python3.7/dist-packages/seaborn/distributions.py:2557: FutureWarning: `distplot` is a deprecated function and will be removed in a future version. Please adapt your code to use either `displot` (a figure-level function with similar flexibility) or `histplot` (an axes-level function for histograms).\n",
      "  warnings.warn(msg, FutureWarning)\n"
     ]
    },
    {
     "data": {
      "text/plain": [
       "<matplotlib.axes._subplots.AxesSubplot at 0x7f35538b5c90>"
      ]
     },
     "execution_count": 25,
     "metadata": {},
     "output_type": "execute_result"
    },
    {
     "data": {
      "image/png": "[encoded data removed]",
      "text/plain": [
       "<Figure size 432x288 with 1 Axes>"
      ]
     },
     "metadata": {
      "needs_background": "light"
     },
     "output_type": "display_data"
    }
   ],
   "source": [
    "sns.distplot(turbine_data['CO'])"
   ]
  },
  {
   "cell_type": "code",
   "execution_count": 26,
   "metadata": {
    "colab": {
     "base_uri": "https://localhost:8080/",
     "height": 350
    },
    "executionInfo": {
     "elapsed": 1261,
     "status": "ok",
     "timestamp": 1631542087002,
     "user": {
      "displayName": "Rooba Dharshini",
      "photoUrl": "https://lh3.googleusercontent.com/a-/AOh14GgFMTz2I-kQBRnzggoR7sNyqkk8l6OvkfZ1oqO9RA=s64",
      "userId": "15190253811630465496"
     },
     "user_tz": -330
    },
    "id": "mAuFbCNyezJ1",
    "outputId": "3c83b1d6-57e5-4431-fc20-f38ff9a87a39"
   },
   "outputs": [
    {
     "name": "stderr",
     "output_type": "stream",
     "text": [
      "/usr/local/lib/python3.7/dist-packages/seaborn/distributions.py:2557: FutureWarning: `distplot` is a deprecated function and will be removed in a future version. Please adapt your code to use either `displot` (a figure-level function with similar flexibility) or `histplot` (an axes-level function for histograms).\n",
      "  warnings.warn(msg, FutureWarning)\n"
     ]
    },
    {
     "data": {
      "text/plain": [
       "<matplotlib.axes._subplots.AxesSubplot at 0x7f35538295d0>"
      ]
     },
     "execution_count": 26,
     "metadata": {},
     "output_type": "execute_result"
    },
    {
     "data": {
      "image/png": "[encoded data removed]",
      "text/plain": [
       "<Figure size 432x288 with 1 Axes>"
      ]
     },
     "metadata": {
      "needs_background": "light"
     },
     "output_type": "display_data"
    }
   ],
   "source": [
    "sns.distplot(turbine_data['NOX'])"
   ]
  },
  {
   "cell_type": "code",
   "execution_count": 27,
   "metadata": {
    "colab": {
     "base_uri": "https://localhost:8080/",
     "height": 350
    },
    "executionInfo": {
     "elapsed": 854,
     "status": "ok",
     "timestamp": 1631542090312,
     "user": {
      "displayName": "Rooba Dharshini",
      "photoUrl": "https://lh3.googleusercontent.com/a-/AOh14GgFMTz2I-kQBRnzggoR7sNyqkk8l6OvkfZ1oqO9RA=s64",
      "userId": "15190253811630465496"
     },
     "user_tz": -330
    },
    "id": "Oy39JDoMey6D",
    "outputId": "4686b78f-038e-4e9a-f40c-cc6c2ae31cc5"
   },
   "outputs": [
    {
     "name": "stderr",
     "output_type": "stream",
     "text": [
      "/usr/local/lib/python3.7/dist-packages/seaborn/distributions.py:2557: FutureWarning: `distplot` is a deprecated function and will be removed in a future version. Please adapt your code to use either `displot` (a figure-level function with similar flexibility) or `histplot` (an axes-level function for histograms).\n",
      "  warnings.warn(msg, FutureWarning)\n"
     ]
    },
    {
     "data": {
      "text/plain": [
       "<matplotlib.axes._subplots.AxesSubplot at 0x7f35537ac190>"
      ]
     },
     "execution_count": 27,
     "metadata": {},
     "output_type": "execute_result"
    },
    {
     "data": {
      "image/png": "[encoded data removed]",
      "text/plain": [
       "<Figure size 432x288 with 1 Axes>"
      ]
     },
     "metadata": {
      "needs_background": "light"
     },
     "output_type": "display_data"
    }
   ],
   "source": [
    "sns.distplot(turbine_data['TEY'])"
   ]
  },
  {
   "cell_type": "markdown",
   "metadata": {
    "id": "-FaHNgTVfK1j"
   },
   "source": [
    "### Data Preparation"
   ]
  },
  {
   "cell_type": "code",
   "execution_count": 44,
   "metadata": {
    "executionInfo": {
     "elapsed": 367,
     "status": "ok",
     "timestamp": 1631542577799,
     "user": {
      "displayName": "Rooba Dharshini",
      "photoUrl": "https://lh3.googleusercontent.com/a-/AOh14GgFMTz2I-kQBRnzggoR7sNyqkk8l6OvkfZ1oqO9RA=s64",
      "userId": "15190253811630465496"
     },
     "user_tz": -330
    },
    "id": "iSRiW9mZfN3J"
   },
   "outputs": [],
   "source": [
    "x=turbine_data.drop('TEY',axis=1)\n",
    "y=turbine_data['TEY']"
   ]
  },
  {
   "cell_type": "code",
   "execution_count": 48,
   "metadata": {
    "colab": {
     "base_uri": "https://localhost:8080/",
     "height": 419
    },
    "executionInfo": {
     "elapsed": 630,
     "status": "ok",
     "timestamp": 1631542624704,
     "user": {
      "displayName": "Rooba Dharshini",
      "photoUrl": "https://lh3.googleusercontent.com/a-/AOh14GgFMTz2I-kQBRnzggoR7sNyqkk8l6OvkfZ1oqO9RA=s64",
      "userId": "15190253811630465496"
     },
     "user_tz": -330
    },
    "id": "7NZo8eZwhLPb",
    "outputId": "d0fab8dd-f6f4-4e9d-cd57-de74ad6ea62e"
   },
   "outputs": [
    {
     "data": {
      "text/html": [
       "<div>\n",
       "<style scoped>\n",
       "    .dataframe tbody tr th:only-of-type {\n",
       "        vertical-align: middle;\n",
       "    }\n",
       "\n",
       "    .dataframe tbody tr th {\n",
       "        vertical-align: top;\n",
       "    }\n",
       "\n",
       "    .dataframe thead th {\n",
       "        text-align: right;\n",
       "    }\n",
       "</style>\n",
       "<table border=\"1\" class=\"dataframe\">\n",
       "  <thead>\n",
       "    <tr style=\"text-align: right;\">\n",
       "      <th></th>\n",
       "      <th>AT</th>\n",
       "      <th>AP</th>\n",
       "      <th>AH</th>\n",
       "      <th>AFDP</th>\n",
       "      <th>GTEP</th>\n",
       "      <th>TIT</th>\n",
       "      <th>TAT</th>\n",
       "      <th>CDP</th>\n",
       "      <th>CO</th>\n",
       "      <th>NOX</th>\n",
       "    </tr>\n",
       "  </thead>\n",
       "  <tbody>\n",
       "    <tr>\n",
       "      <th>0</th>\n",
       "      <td>6.8594</td>\n",
       "      <td>1007.9</td>\n",
       "      <td>96.799</td>\n",
       "      <td>3.5000</td>\n",
       "      <td>19.663</td>\n",
       "      <td>1059.2</td>\n",
       "      <td>550.00</td>\n",
       "      <td>10.605</td>\n",
       "      <td>3.1547</td>\n",
       "      <td>82.722</td>\n",
       "    </tr>\n",
       "    <tr>\n",
       "      <th>1</th>\n",
       "      <td>6.7850</td>\n",
       "      <td>1008.4</td>\n",
       "      <td>97.118</td>\n",
       "      <td>3.4998</td>\n",
       "      <td>19.728</td>\n",
       "      <td>1059.3</td>\n",
       "      <td>550.00</td>\n",
       "      <td>10.598</td>\n",
       "      <td>3.2363</td>\n",
       "      <td>82.776</td>\n",
       "    </tr>\n",
       "    <tr>\n",
       "      <th>2</th>\n",
       "      <td>6.8977</td>\n",
       "      <td>1008.8</td>\n",
       "      <td>95.939</td>\n",
       "      <td>3.4824</td>\n",
       "      <td>19.779</td>\n",
       "      <td>1059.4</td>\n",
       "      <td>549.87</td>\n",
       "      <td>10.601</td>\n",
       "      <td>3.2012</td>\n",
       "      <td>82.468</td>\n",
       "    </tr>\n",
       "    <tr>\n",
       "      <th>3</th>\n",
       "      <td>7.0569</td>\n",
       "      <td>1009.2</td>\n",
       "      <td>95.249</td>\n",
       "      <td>3.4805</td>\n",
       "      <td>19.792</td>\n",
       "      <td>1059.6</td>\n",
       "      <td>549.99</td>\n",
       "      <td>10.606</td>\n",
       "      <td>3.1923</td>\n",
       "      <td>82.670</td>\n",
       "    </tr>\n",
       "    <tr>\n",
       "      <th>4</th>\n",
       "      <td>7.3978</td>\n",
       "      <td>1009.7</td>\n",
       "      <td>95.150</td>\n",
       "      <td>3.4976</td>\n",
       "      <td>19.765</td>\n",
       "      <td>1059.7</td>\n",
       "      <td>549.98</td>\n",
       "      <td>10.612</td>\n",
       "      <td>3.2484</td>\n",
       "      <td>82.311</td>\n",
       "    </tr>\n",
       "    <tr>\n",
       "      <th>...</th>\n",
       "      <td>...</td>\n",
       "      <td>...</td>\n",
       "      <td>...</td>\n",
       "      <td>...</td>\n",
       "      <td>...</td>\n",
       "      <td>...</td>\n",
       "      <td>...</td>\n",
       "      <td>...</td>\n",
       "      <td>...</td>\n",
       "      <td>...</td>\n",
       "    </tr>\n",
       "    <tr>\n",
       "      <th>15034</th>\n",
       "      <td>9.0301</td>\n",
       "      <td>1005.6</td>\n",
       "      <td>98.460</td>\n",
       "      <td>3.5421</td>\n",
       "      <td>19.164</td>\n",
       "      <td>1049.7</td>\n",
       "      <td>546.21</td>\n",
       "      <td>10.400</td>\n",
       "      <td>4.5186</td>\n",
       "      <td>79.559</td>\n",
       "    </tr>\n",
       "    <tr>\n",
       "      <th>15035</th>\n",
       "      <td>7.8879</td>\n",
       "      <td>1005.9</td>\n",
       "      <td>99.093</td>\n",
       "      <td>3.5059</td>\n",
       "      <td>19.414</td>\n",
       "      <td>1046.3</td>\n",
       "      <td>543.22</td>\n",
       "      <td>10.433</td>\n",
       "      <td>4.8470</td>\n",
       "      <td>79.917</td>\n",
       "    </tr>\n",
       "    <tr>\n",
       "      <th>15036</th>\n",
       "      <td>7.2647</td>\n",
       "      <td>1006.3</td>\n",
       "      <td>99.496</td>\n",
       "      <td>3.4770</td>\n",
       "      <td>19.530</td>\n",
       "      <td>1037.7</td>\n",
       "      <td>537.32</td>\n",
       "      <td>10.483</td>\n",
       "      <td>7.9632</td>\n",
       "      <td>90.912</td>\n",
       "    </tr>\n",
       "    <tr>\n",
       "      <th>15037</th>\n",
       "      <td>7.0060</td>\n",
       "      <td>1006.8</td>\n",
       "      <td>99.008</td>\n",
       "      <td>3.4486</td>\n",
       "      <td>19.377</td>\n",
       "      <td>1043.2</td>\n",
       "      <td>541.24</td>\n",
       "      <td>10.533</td>\n",
       "      <td>6.2494</td>\n",
       "      <td>93.227</td>\n",
       "    </tr>\n",
       "    <tr>\n",
       "      <th>15038</th>\n",
       "      <td>6.9279</td>\n",
       "      <td>1007.2</td>\n",
       "      <td>97.533</td>\n",
       "      <td>3.4275</td>\n",
       "      <td>19.306</td>\n",
       "      <td>1049.9</td>\n",
       "      <td>545.85</td>\n",
       "      <td>10.583</td>\n",
       "      <td>4.9816</td>\n",
       "      <td>92.498</td>\n",
       "    </tr>\n",
       "  </tbody>\n",
       "</table>\n",
       "<p>15039 rows × 10 columns</p>\n",
       "</div>"
      ],
      "text/plain": [
       "           AT      AP      AH    AFDP  ...     TAT     CDP      CO     NOX\n",
       "0      6.8594  1007.9  96.799  3.5000  ...  550.00  10.605  3.1547  82.722\n",
       "1      6.7850  1008.4  97.118  3.4998  ...  550.00  10.598  3.2363  82.776\n",
       "2      6.8977  1008.8  95.939  3.4824  ...  549.87  10.601  3.2012  82.468\n",
       "3      7.0569  1009.2  95.249  3.4805  ...  549.99  10.606  3.1923  82.670\n",
       "4      7.3978  1009.7  95.150  3.4976  ...  549.98  10.612  3.2484  82.311\n",
       "...       ...     ...     ...     ...  ...     ...     ...     ...     ...\n",
       "15034  9.0301  1005.6  98.460  3.5421  ...  546.21  10.400  4.5186  79.559\n",
       "15035  7.8879  1005.9  99.093  3.5059  ...  543.22  10.433  4.8470  79.917\n",
       "15036  7.2647  1006.3  99.496  3.4770  ...  537.32  10.483  7.9632  90.912\n",
       "15037  7.0060  1006.8  99.008  3.4486  ...  541.24  10.533  6.2494  93.227\n",
       "15038  6.9279  1007.2  97.533  3.4275  ...  545.85  10.583  4.9816  92.498\n",
       "\n",
       "[15039 rows x 10 columns]"
      ]
     },
     "execution_count": 48,
     "metadata": {},
     "output_type": "execute_result"
    }
   ],
   "source": [
    "x"
   ]
  },
  {
   "cell_type": "code",
   "execution_count": 51,
   "metadata": {
    "executionInfo": {
     "elapsed": 413,
     "status": "ok",
     "timestamp": 1631542699692,
     "user": {
      "displayName": "Rooba Dharshini",
      "photoUrl": "https://lh3.googleusercontent.com/a-/AOh14GgFMTz2I-kQBRnzggoR7sNyqkk8l6OvkfZ1oqO9RA=s64",
      "userId": "15190253811630465496"
     },
     "user_tz": -330
    },
    "id": "EMtjQdsVfXnF"
   },
   "outputs": [],
   "source": [
    "from sklearn.preprocessing import StandardScaler\n",
    "std_model=StandardScaler()"
   ]
  },
  {
   "cell_type": "code",
   "execution_count": 52,
   "metadata": {
    "executionInfo": {
     "elapsed": 645,
     "status": "ok",
     "timestamp": 1631542709823,
     "user": {
      "displayName": "Rooba Dharshini",
      "photoUrl": "https://lh3.googleusercontent.com/a-/AOh14GgFMTz2I-kQBRnzggoR7sNyqkk8l6OvkfZ1oqO9RA=s64",
      "userId": "15190253811630465496"
     },
     "user_tz": -330
    },
    "id": "-xbumGH8fjKj"
   },
   "outputs": [],
   "source": [
    "x_transform=std_model.fit_transform(x)"
   ]
  },
  {
   "cell_type": "markdown",
   "metadata": {
    "id": "ETPm6A8JgAgQ"
   },
   "source": [
    "### Model buliding"
   ]
  },
  {
   "cell_type": "code",
   "execution_count": 53,
   "metadata": {
    "executionInfo": {
     "elapsed": 597,
     "status": "ok",
     "timestamp": 1631542721564,
     "user": {
      "displayName": "Rooba Dharshini",
      "photoUrl": "https://lh3.googleusercontent.com/a-/AOh14GgFMTz2I-kQBRnzggoR7sNyqkk8l6OvkfZ1oqO9RA=s64",
      "userId": "15190253811630465496"
     },
     "user_tz": -330
    },
    "id": "8N-FBQoLgDnv"
   },
   "outputs": [],
   "source": [
    "from sklearn.model_selection import train_test_split\n",
    "x_train,x_test,y_train,y_test=train_test_split(x_transform,y,test_size=0.2)"
   ]
  },
  {
   "cell_type": "code",
   "execution_count": 54,
   "metadata": {
    "colab": {
     "base_uri": "https://localhost:8080/"
    },
    "executionInfo": {
     "elapsed": 647,
     "status": "ok",
     "timestamp": 1631542740223,
     "user": {
      "displayName": "Rooba Dharshini",
      "photoUrl": "https://lh3.googleusercontent.com/a-/AOh14GgFMTz2I-kQBRnzggoR7sNyqkk8l6OvkfZ1oqO9RA=s64",
      "userId": "15190253811630465496"
     },
     "user_tz": -330
    },
    "id": "nsXjvLkigS1v",
    "outputId": "2a4ca26a-6287-4a3a-a395-7feefcc7ac9a"
   },
   "outputs": [
    {
     "data": {
      "text/plain": [
       "((12031, 10), (12031,), (3008, 10), (3008,))"
      ]
     },
     "execution_count": 54,
     "metadata": {},
     "output_type": "execute_result"
    }
   ],
   "source": [
    "x_train.shape,y_train.shape,x_test.shape,y_test.shape"
   ]
  },
  {
   "cell_type": "markdown",
   "metadata": {
    "id": "dEGzDY2KhqNH"
   },
   "source": [
    "### Model training"
   ]
  },
  {
   "cell_type": "code",
   "execution_count": 80,
   "metadata": {
    "executionInfo": {
     "elapsed": 421,
     "status": "ok",
     "timestamp": 1631544175994,
     "user": {
      "displayName": "Rooba Dharshini",
      "photoUrl": "https://lh3.googleusercontent.com/a-/AOh14GgFMTz2I-kQBRnzggoR7sNyqkk8l6OvkfZ1oqO9RA=s64",
      "userId": "15190253811630465496"
     },
     "user_tz": -330
    },
    "id": "SJHol4qJhr93"
   },
   "outputs": [],
   "source": [
    "model = tf.keras.models.Sequential([tf.keras.layers.Flatten(input_dim = 10), #I/player\n",
    "                                    tf.keras.layers.Dense(8,activation = 'relu'), #Hidden layer 1\n",
    "                                    tf.keras.layers.Dense(1,activation = 'relu')]) #O/p layer"
   ]
  },
  {
   "cell_type": "code",
   "execution_count": 81,
   "metadata": {
    "colab": {
     "base_uri": "https://localhost:8080/"
    },
    "executionInfo": {
     "elapsed": 7,
     "status": "ok",
     "timestamp": 1631544178248,
     "user": {
      "displayName": "Rooba Dharshini",
      "photoUrl": "https://lh3.googleusercontent.com/a-/AOh14GgFMTz2I-kQBRnzggoR7sNyqkk8l6OvkfZ1oqO9RA=s64",
      "userId": "15190253811630465496"
     },
     "user_tz": -330
    },
    "id": "jF3l6e0viM3X",
    "outputId": "1f97ae0e-1ef9-4b55-ac10-85efbf6d9683"
   },
   "outputs": [
    {
     "name": "stdout",
     "output_type": "stream",
     "text": [
      "Model: \"sequential_2\"\n",
      "_________________________________________________________________\n",
      "Layer (type)                 Output Shape              Param #   \n",
      "=================================================================\n",
      "flatten_2 (Flatten)          (None, 10)                0         \n",
      "_________________________________________________________________\n",
      "dense_3 (Dense)              (None, 8)                 88        \n",
      "_________________________________________________________________\n",
      "dense_4 (Dense)              (None, 1)                 9         \n",
      "=================================================================\n",
      "Total params: 97\n",
      "Trainable params: 97\n",
      "Non-trainable params: 0\n",
      "_________________________________________________________________\n"
     ]
    }
   ],
   "source": [
    "model.summary()"
   ]
  },
  {
   "cell_type": "code",
   "execution_count": 82,
   "metadata": {
    "executionInfo": {
     "elapsed": 4,
     "status": "ok",
     "timestamp": 1631544182138,
     "user": {
      "displayName": "Rooba Dharshini",
      "photoUrl": "https://lh3.googleusercontent.com/a-/AOh14GgFMTz2I-kQBRnzggoR7sNyqkk8l6OvkfZ1oqO9RA=s64",
      "userId": "15190253811630465496"
     },
     "user_tz": -330
    },
    "id": "UZCQQkohjPZz"
   },
   "outputs": [],
   "source": [
    "model.compile(optimizer='adam',loss='mean_squared_error',metrics=['accuracy'])"
   ]
  },
  {
   "cell_type": "code",
   "execution_count": 83,
   "metadata": {
    "colab": {
     "base_uri": "https://localhost:8080/"
    },
    "executionInfo": {
     "elapsed": 6314,
     "status": "ok",
     "timestamp": 1631544190806,
     "user": {
      "displayName": "Rooba Dharshini",
      "photoUrl": "https://lh3.googleusercontent.com/a-/AOh14GgFMTz2I-kQBRnzggoR7sNyqkk8l6OvkfZ1oqO9RA=s64",
      "userId": "15190253811630465496"
     },
     "user_tz": -330
    },
    "id": "7oOlz119jrMF",
    "outputId": "49c3839d-494a-4b71-ef7b-09ec0be9c857"
   },
   "outputs": [
    {
     "name": "stdout",
     "output_type": "stream",
     "text": [
      "Epoch 1/10\n",
      "241/241 [==============================] - 1s 1ms/step - loss: 18002.8730 - accuracy: 0.0000e+00\n",
      "Epoch 2/10\n",
      "241/241 [==============================] - 0s 1ms/step - loss: 17060.8574 - accuracy: 0.0000e+00\n",
      "Epoch 3/10\n",
      "241/241 [==============================] - 0s 1ms/step - loss: 15196.1445 - accuracy: 0.0000e+00\n",
      "Epoch 4/10\n",
      "241/241 [==============================] - 0s 1ms/step - loss: 12789.0283 - accuracy: 0.0000e+00\n",
      "Epoch 5/10\n",
      "241/241 [==============================] - 0s 1ms/step - loss: 10109.3857 - accuracy: 0.0000e+00\n",
      "Epoch 6/10\n",
      "241/241 [==============================] - 0s 1ms/step - loss: 7315.2808 - accuracy: 0.0000e+00\n",
      "Epoch 7/10\n",
      "241/241 [==============================] - 0s 1ms/step - loss: 5062.0591 - accuracy: 0.0000e+00\n",
      "Epoch 8/10\n",
      "241/241 [==============================] - 0s 1ms/step - loss: 3475.2659 - accuracy: 0.0000e+00\n",
      "Epoch 9/10\n",
      "241/241 [==============================] - 0s 1ms/step - loss: 2442.6111 - accuracy: 0.0000e+00\n",
      "Epoch 10/10\n",
      "241/241 [==============================] - 0s 1ms/step - loss: 1788.4218 - accuracy: 0.0000e+00\n"
     ]
    },
    {
     "data": {
      "text/plain": [
       "<keras.callbacks.History at 0x7f354cd8a6d0>"
      ]
     },
     "execution_count": 83,
     "metadata": {},
     "output_type": "execute_result"
    }
   ],
   "source": [
    "model.fit(x=x_train,y=y_train,batch_size=50,epochs=10,verbose=1)"
   ]
  },
  {
   "cell_type": "markdown",
   "metadata": {},
   "source": [
    "### Model testing"
   ]
  },
  {
   "cell_type": "code",
   "execution_count": 84,
   "metadata": {
    "colab": {
     "base_uri": "https://localhost:8080/"
    },
    "executionInfo": {
     "elapsed": 386,
     "status": "ok",
     "timestamp": 1631544194736,
     "user": {
      "displayName": "Rooba Dharshini",
      "photoUrl": "https://lh3.googleusercontent.com/a-/AOh14GgFMTz2I-kQBRnzggoR7sNyqkk8l6OvkfZ1oqO9RA=s64",
      "userId": "15190253811630465496"
     },
     "user_tz": -330
    },
    "id": "eZ5FT84PkP3p",
    "outputId": "da6ad715-cccb-4ba7-b1f0-305d7e77bc03"
   },
   "outputs": [
    {
     "data": {
      "text/plain": [
       "(3008, 1)"
      ]
     },
     "execution_count": 84,
     "metadata": {},
     "output_type": "execute_result"
    }
   ],
   "source": [
    "y_pred=model.predict(x_test)\n",
    "y_pred.shape"
   ]
  },
  {
   "cell_type": "markdown",
   "metadata": {},
   "source": [
    "### Model evaluation"
   ]
  },
  {
   "cell_type": "code",
   "execution_count": 85,
   "metadata": {
    "executionInfo": {
     "elapsed": 10,
     "status": "ok",
     "timestamp": 1631544200390,
     "user": {
      "displayName": "Rooba Dharshini",
      "photoUrl": "https://lh3.googleusercontent.com/a-/AOh14GgFMTz2I-kQBRnzggoR7sNyqkk8l6OvkfZ1oqO9RA=s64",
      "userId": "15190253811630465496"
     },
     "user_tz": -330
    },
    "id": "guaLsOA9kkTW"
   },
   "outputs": [],
   "source": [
    "from sklearn.metrics import mean_squared_error"
   ]
  },
  {
   "cell_type": "code",
   "execution_count": 86,
   "metadata": {
    "colab": {
     "base_uri": "https://localhost:8080/"
    },
    "executionInfo": {
     "elapsed": 7,
     "status": "ok",
     "timestamp": 1631544202226,
     "user": {
      "displayName": "Rooba Dharshini",
      "photoUrl": "https://lh3.googleusercontent.com/a-/AOh14GgFMTz2I-kQBRnzggoR7sNyqkk8l6OvkfZ1oqO9RA=s64",
      "userId": "15190253811630465496"
     },
     "user_tz": -330
    },
    "id": "wkEuUI8Ok3CA",
    "outputId": "c2c4b72f-fa71-43ad-d2fb-908945947982"
   },
   "outputs": [
    {
     "data": {
      "text/plain": [
       "(3008, 10)"
      ]
     },
     "execution_count": 86,
     "metadata": {},
     "output_type": "execute_result"
    }
   ],
   "source": [
    "x_test.shape"
   ]
  },
  {
   "cell_type": "code",
   "execution_count": 87,
   "metadata": {
    "colab": {
     "base_uri": "https://localhost:8080/"
    },
    "executionInfo": {
     "elapsed": 637,
     "status": "ok",
     "timestamp": 1631544207453,
     "user": {
      "displayName": "Rooba Dharshini",
      "photoUrl": "https://lh3.googleusercontent.com/a-/AOh14GgFMTz2I-kQBRnzggoR7sNyqkk8l6OvkfZ1oqO9RA=s64",
      "userId": "15190253811630465496"
     },
     "user_tz": -330
    },
    "id": "FMl6kbKvks9z",
    "outputId": "c3318d06-33a3-4498-8a1d-e0e9903de3e5"
   },
   "outputs": [
    {
     "name": "stdout",
     "output_type": "stream",
     "text": [
      "94/94 [==============================] - 0s 874us/step - loss: 1546.7555 - accuracy: 0.0000e+00\n"
     ]
    },
    {
     "data": {
      "text/plain": [
       "[1546.7554931640625, 0.0]"
      ]
     },
     "execution_count": 87,
     "metadata": {},
     "output_type": "execute_result"
    }
   ],
   "source": [
    "model.evaluate(x_test,y_test)"
   ]
  },
  {
   "cell_type": "code",
   "execution_count": 88,
   "metadata": {
    "colab": {
     "base_uri": "https://localhost:8080/"
    },
    "executionInfo": {
     "elapsed": 730,
     "status": "ok",
     "timestamp": 1631544229462,
     "user": {
      "displayName": "Rooba Dharshini",
      "photoUrl": "https://lh3.googleusercontent.com/a-/AOh14GgFMTz2I-kQBRnzggoR7sNyqkk8l6OvkfZ1oqO9RA=s64",
      "userId": "15190253811630465496"
     },
     "user_tz": -330
    },
    "id": "7VD1WLYhlQdN",
    "outputId": "d1f650c7-0f86-4ad7-c53e-614c74ee2eff"
   },
   "outputs": [
    {
     "data": {
      "text/plain": [
       "1546.7556350683215"
      ]
     },
     "execution_count": 88,
     "metadata": {},
     "output_type": "execute_result"
    }
   ],
   "source": [
    "mean_squared_error(y_test,y_pred)"
   ]
  }
 ],
 "metadata": {
  "colab": {
   "authorship_tag": "ABX9TyO+uliMwYmi2nBW+2Igclm2",
   "name": "Neural network - turbine.ipynb",
   "provenance": []
  },
  "kernelspec": {
   "display_name": "Python 3",
   "language": "python",
   "name": "python3"
  },
  "language_info": {
   "codemirror_mode": {
    "name": "ipython",
    "version": 3
   },
   "file_extension": ".py",
   "mimetype": "text/x-python",
   "name": "python",
   "nbconvert_exporter": "python",
   "pygments_lexer": "ipython3",
   "version": "3.8.8"
  }
 },
 "nbformat": 4,
 "nbformat_minor": 1
}
